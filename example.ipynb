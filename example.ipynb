{
 "cells": [
  {
   "cell_type": "code",
   "execution_count": 27,
   "metadata": {},
   "outputs": [],
   "source": [
    "import matplotlib.pyplot as plt \n",
    "import altair as alt"
   ]
  },
  {
   "cell_type": "code",
   "execution_count": 26,
   "metadata": {},
   "outputs": [],
   "source": [
    "import pandas as pd\n",
    "url = \"https://raw.githubusercontent.com/UIUC-iSchool-DataViz/is445_data/main/licenses_fall2022.csv\"\n",
    "df = pd.read_csv(url)"
   ]
  },
  {
   "cell_type": "code",
   "execution_count": 29,
   "metadata": {},
   "outputs": [
    {
     "data": {
      "text/plain": [
       "Index(['_id', 'License Type', 'Description', 'License Number',\n",
       "       'License Status', 'Business', 'Title', 'First Name', 'Middle',\n",
       "       'Last Name', 'Prefix', 'Suffix', 'Business Name', 'BusinessDBA',\n",
       "       'Original Issue Date', 'Effective Date', 'Expiration Date', 'City',\n",
       "       'State', 'Zip', 'County', 'Specialty/Qualifier',\n",
       "       'Controlled Substance Schedule',\n",
       "       'Delegated Controlled Substance Schedule', 'Ever Disciplined',\n",
       "       'LastModifiedDate', 'Case Number', 'Action', 'Discipline Start Date',\n",
       "       'Discipline End Date', 'Discipline Reason'],\n",
       "      dtype='object')"
      ]
     },
     "execution_count": 29,
     "metadata": {},
     "output_type": "execute_result"
    }
   ],
   "source": [
    "df.columns"
   ]
  },
  {
   "cell_type": "code",
   "execution_count": 38,
   "metadata": {},
   "outputs": [],
   "source": [
    "df['Expiration Year'] = pd.to_datetime(df['Expiration Date'], errors='coerce').dt.year\n",
    "\n",
    "# Create a selection slider for the year\n",
    "year_slider = alt.binding_range(min=int(df['Expiration Year'].min()), max=int(df['Expiration Year'].max()), step=1)\n",
    "year_select = alt.selection_point(name=\"Select\", fields=['Expiration Year'], bind=year_slider)\n",
    "\n",
    "year_slider = alt.binding_range(min=int(df['Expiration Year'].min()), max=int(df['Expiration Year'].max()), step=1)\n",
    "year_select = alt.selection_point(name=\"Select\", fields=['Expiration Year'], bind=year_slider)\n",
    "\n",
    "# Create a bar plot with the selection filter\n",
    "bar_plot = alt.Chart(df).mark_bar().encode(\n",
    "    x=alt.X('count(License Number):Q', title='Number of Licenses Expiring'),\n",
    "    y=alt.Y('License Status:N', title='License Status'),\n",
    "    color='License Status:N'\n",
    ").transform_filter(\n",
    "    year_select\n",
    ").add_params(\n",
    "    year_select\n",
    ")"
   ]
  },
  {
   "cell_type": "code",
   "execution_count": 18,
   "metadata": {},
   "outputs": [
    {
     "data": {
      "text/plain": [
       "Index(['Agency Name', 'Location Name', 'Address', 'City', 'Zip code', 'County',\n",
       "       'Congress Dist', 'Congressional Full Name', 'Rep Dist', 'Rep Full Name',\n",
       "       'Senate Dist', 'Senator Full Name', 'Bldg Status', 'Year Acquired',\n",
       "       'Year Constructed', 'Square Footage', 'Total Floors',\n",
       "       'Floors Above Grade', 'Floors Below Grade', 'Usage Description',\n",
       "       'Usage Description 2', 'Usage Description 3'],\n",
       "      dtype='object')"
      ]
     },
     "execution_count": 18,
     "metadata": {},
     "output_type": "execute_result"
    }
   ],
   "source": [
    "df.columns"
   ]
  },
  {
   "cell_type": "code",
   "execution_count": 39,
   "metadata": {},
   "outputs": [],
   "source": [
    "bar_plot.save('bar_plot.html')"
   ]
  },
  {
   "cell_type": "code",
   "execution_count": 40,
   "metadata": {},
   "outputs": [
    {
     "data": {
      "text/plain": [
       "Index(['_id', 'License Type', 'Description', 'License Number',\n",
       "       'License Status', 'Business', 'Title', 'First Name', 'Middle',\n",
       "       'Last Name', 'Prefix', 'Suffix', 'Business Name', 'BusinessDBA',\n",
       "       'Original Issue Date', 'Effective Date', 'Expiration Date', 'City',\n",
       "       'State', 'Zip', 'County', 'Specialty/Qualifier',\n",
       "       'Controlled Substance Schedule',\n",
       "       'Delegated Controlled Substance Schedule', 'Ever Disciplined',\n",
       "       'LastModifiedDate', 'Case Number', 'Action', 'Discipline Start Date',\n",
       "       'Discipline End Date', 'Discipline Reason', 'Expiration Year'],\n",
       "      dtype='object')"
      ]
     },
     "execution_count": 40,
     "metadata": {},
     "output_type": "execute_result"
    }
   ],
   "source": [
    "df.columns"
   ]
  },
  {
   "cell_type": "code",
   "execution_count": 43,
   "metadata": {},
   "outputs": [
    {
     "data": {
      "text/plain": [
       "array(['IL', 'CA', 'KY', 'ID', 'MO', 'IN', 'WI', 'TX', 'GA', 'CO', 'NJ',\n",
       "       'MD', '  ', 'IA', 'AZ', 'KS', 'NY', 'FL', 'MS', 'UT', 'MN', 'NC',\n",
       "       'MI', 'HI', 'NV', 'SC', 'AL', 'VA', 'WA', 'OH', 'NH', 'TN', 'PA',\n",
       "       'AR', 'BC', 'LA', 'MT', 'MA', 'OK', 'OR', 'NE', 'ND', 'VT', 'NM',\n",
       "       'WY'], dtype=object)"
      ]
     },
     "execution_count": 43,
     "metadata": {},
     "output_type": "execute_result"
    }
   ],
   "source": [
    "df['State'].unique()"
   ]
  },
  {
   "cell_type": "code",
   "execution_count": 46,
   "metadata": {},
   "outputs": [],
   "source": [
    "license_type_dropdown = alt.binding_select(options=df['License Type'].unique(), name='License Type: ')\n",
    "license_type_select = alt.selection_single(fields=['License Type'], bind=license_type_dropdown)\n",
    "\n",
    "# Create a bar plot with the selection filter\n",
    "bar_plot2 = alt.Chart(df).mark_bar().encode(\n",
    "    x=alt.X('License Status:N', title='License Status'),\n",
    "    y=alt.Y('count():Q', title='Count'),\n",
    "    color='License Status:N'\n",
    ").transform_filter(\n",
    "    license_type_select\n",
    ").add_params(\n",
    "    license_type_select\n",
    ")"
   ]
  },
  {
   "cell_type": "code",
   "execution_count": 47,
   "metadata": {},
   "outputs": [],
   "source": [
    "bar_plot2.save('licenseVsStatus.html')"
   ]
  },
  {
   "cell_type": "code",
   "execution_count": null,
   "metadata": {},
   "outputs": [],
   "source": []
  }
 ],
 "metadata": {
  "kernelspec": {
   "display_name": "Python 3",
   "language": "python",
   "name": "python3"
  },
  "language_info": {
   "codemirror_mode": {
    "name": "ipython",
    "version": 3
   },
   "file_extension": ".py",
   "mimetype": "text/x-python",
   "name": "python",
   "nbconvert_exporter": "python",
   "pygments_lexer": "ipython3",
   "version": "3.12.2"
  }
 },
 "nbformat": 4,
 "nbformat_minor": 2
}
